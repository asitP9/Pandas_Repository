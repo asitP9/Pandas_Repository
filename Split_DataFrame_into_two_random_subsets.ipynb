{
 "cells": [
  {
   "cell_type": "markdown",
   "id": "b998682d",
   "metadata": {},
   "source": [
    "## INDEX VALUE SHOULD BE UNIQUE"
   ]
  },
  {
   "cell_type": "code",
   "execution_count": 4,
   "id": "781e6d70",
   "metadata": {},
   "outputs": [],
   "source": [
    "import pandas as pd"
   ]
  },
  {
   "cell_type": "code",
   "execution_count": 5,
   "id": "420d14fb",
   "metadata": {},
   "outputs": [],
   "source": [
    "movies=pd.read_csv(\"imdb_1000.csv\")"
   ]
  },
  {
   "cell_type": "code",
   "execution_count": 6,
   "id": "e38b6352",
   "metadata": {},
   "outputs": [
    {
     "data": {
      "text/plain": [
       "979"
      ]
     },
     "execution_count": 6,
     "metadata": {},
     "output_type": "execute_result"
    }
   ],
   "source": [
    "len(movies)"
   ]
  },
  {
   "cell_type": "code",
   "execution_count": 7,
   "id": "bdd2bdfc",
   "metadata": {},
   "outputs": [],
   "source": [
    "movies_1=movies.sample(frac=0.75, random_state=1234)\n",
    "movies_2=movies.drop(movies_1.index)\n",
    "\n"
   ]
  },
  {
   "cell_type": "code",
   "execution_count": 8,
   "id": "7a536b9d",
   "metadata": {},
   "outputs": [
    {
     "data": {
      "text/plain": [
       "979"
      ]
     },
     "execution_count": 8,
     "metadata": {},
     "output_type": "execute_result"
    }
   ],
   "source": [
    "len(movies_1)+len(movies_2)"
   ]
  },
  {
   "cell_type": "code",
   "execution_count": 9,
   "id": "7dd3b640",
   "metadata": {},
   "outputs": [
    {
     "data": {
      "text/plain": [
       "Int64Index([  0,   2,   5,   6,   7,   8,   9,  11,  13,  16,\n",
       "            ...\n",
       "            966, 967, 969, 971, 972, 974, 975, 976, 977, 978],\n",
       "           dtype='int64', length=734)"
      ]
     },
     "execution_count": 9,
     "metadata": {},
     "output_type": "execute_result"
    }
   ],
   "source": [
    "movies_1.index.sort_values()"
   ]
  },
  {
   "cell_type": "code",
   "execution_count": 10,
   "id": "b2f9f1c3",
   "metadata": {},
   "outputs": [
    {
     "data": {
      "text/plain": [
       "Int64Index([  1,   3,   4,  10,  12,  14,  15,  18,  26,  30,\n",
       "            ...\n",
       "            931, 934, 937, 941, 950, 954, 960, 968, 970, 973],\n",
       "           dtype='int64', length=245)"
      ]
     },
     "execution_count": 10,
     "metadata": {},
     "output_type": "execute_result"
    }
   ],
   "source": [
    "movies_2.index.sort_values()"
   ]
  },
  {
   "cell_type": "code",
   "execution_count": null,
   "id": "d0bdb118",
   "metadata": {},
   "outputs": [],
   "source": []
  }
 ],
 "metadata": {
  "kernelspec": {
   "display_name": "Python 3",
   "language": "python",
   "name": "python3"
  },
  "language_info": {
   "codemirror_mode": {
    "name": "ipython",
    "version": 3
   },
   "file_extension": ".py",
   "mimetype": "text/x-python",
   "name": "python",
   "nbconvert_exporter": "python",
   "pygments_lexer": "ipython3",
   "version": "3.8.8"
  }
 },
 "nbformat": 4,
 "nbformat_minor": 5
}
